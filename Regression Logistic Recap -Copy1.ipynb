{
 "cells": [
  {
   "cell_type": "code",
   "execution_count": 10,
   "id": "7b2164e3-fa0a-43b4-a2ab-b818d930f56f",
   "metadata": {},
   "outputs": [
    {
     "name": "stdout",
     "output_type": "stream",
     "text": [
      "Requirement already satisfied: scikit-learn in ./anaconda3/lib/python3.11/site-packages (1.2.2)\n",
      "Requirement already satisfied: numpy>=1.17.3 in ./anaconda3/lib/python3.11/site-packages (from scikit-learn) (1.26.4)\n",
      "Requirement already satisfied: scipy>=1.3.2 in ./anaconda3/lib/python3.11/site-packages (from scikit-learn) (1.11.4)\n",
      "Requirement already satisfied: joblib>=1.1.1 in ./anaconda3/lib/python3.11/site-packages (from scikit-learn) (1.2.0)\n",
      "Requirement already satisfied: threadpoolctl>=2.0.0 in ./anaconda3/lib/python3.11/site-packages (from scikit-learn) (2.2.0)\n",
      "Note: you may need to restart the kernel to use updated packages.\n"
     ]
    }
   ],
   "source": [
    "pip install scikit-learn"
   ]
  },
  {
   "cell_type": "code",
   "execution_count": 11,
   "id": "80872f26-87f8-424b-aff7-abf59d4e8a54",
   "metadata": {},
   "outputs": [],
   "source": [
    "# Importer les bibliothèques nécessaires\n",
    "import numpy as np\n",
    "import pandas as pd\n",
    "import matplotlib.pyplot as plt\n",
    "from sklearn import datasets"
   ]
  },
  {
   "cell_type": "code",
   "execution_count": 12,
   "id": "8c933fbe-29f9-452e-b8f6-6c91f96bea49",
   "metadata": {},
   "outputs": [],
   "source": [
    "# Charger le jeu de données Iris\n",
    "iris = datasets.load_iris()\n",
    "X = iris.data  # Les caractéristiques (features)\n",
    "y = iris.target  # Les étiquettes (labels)"
   ]
  },
  {
   "cell_type": "markdown",
   "id": "da7a6e0f-aef1-4742-a9b1-7ce63ee22e41",
   "metadata": {},
   "source": [
    "## Problème de classification : Social_Network_Ads.csv"
   ]
  },
  {
   "cell_type": "markdown",
   "id": "0f5f57d9-65ff-4da3-a962-3c84172d2158",
   "metadata": {},
   "source": [
    "## Étape 1 : Importer les bibliothèques nécessaires"
   ]
  },
  {
   "cell_type": "code",
   "execution_count": 13,
   "id": "a0217876-c790-49fe-b2e8-369652d87ad6",
   "metadata": {},
   "outputs": [],
   "source": [
    "import pandas as pd\n",
    "from sklearn.model_selection import train_test_split"
   ]
  },
  {
   "cell_type": "markdown",
   "id": "5446832f-70d8-489e-a45b-2f1b81f34286",
   "metadata": {},
   "source": [
    "## Étape 2 : Charger et préparer vos données"
   ]
  },
  {
   "cell_type": "code",
   "execution_count": 14,
   "id": "3da46d1b-e889-4813-a6d9-81bc3ea3738d",
   "metadata": {},
   "outputs": [
    {
     "name": "stdout",
     "output_type": "stream",
     "text": [
      "    User ID  Gender  Age  EstimatedSalary  Purchased\n",
      "0  15624510    Male   19            19000          0\n",
      "1  15810944    Male   35            20000          0\n",
      "2  15668575  Female   26            43000          0\n",
      "3  15603246  Female   27            57000          0\n",
      "4  15804002    Male   19            76000          0\n"
     ]
    }
   ],
   "source": [
    "# Exemple de chargement de données à partir d'un fichier CSV\n",
    "data = pd.read_csv('/home/richard/Social_Network_Ads.csv')\n",
    "\n",
    "# Affichez les premières lignes pour vérification\n",
    "print(data.head())"
   ]
  },
  {
   "cell_type": "markdown",
   "id": "174a37ac-c5ae-4964-bb5c-b5546d89aa0f",
   "metadata": {},
   "source": [
    "## Étape 3 : Séparer les données en ensembles d'entraînement et de test : X_(X_train, X_test), Y(y_train, y_test)"
   ]
  },
  {
   "cell_type": "code",
   "execution_count": 15,
   "id": "aa9ff00d-b9b0-40af-89f5-eff4eee8f26d",
   "metadata": {},
   "outputs": [],
   "source": [
    "# Sélectionner les caractéristiques (X) et les étiquettes (y)\n",
    "X = data[['Age', 'EstimatedSalary']]  # Remplacez par vos caractéristiques\n",
    "y = data['Purchased']  # Remplacez par votre étiquette cible\n",
    "\n",
    "# Diviser les données en ensembles d'entraînement et de test (par exemple, 80% pour l'entraînement, 20% pour le test)\n",
    "X_train, X_test, y_train, y_test = train_test_split(X, y, test_size=0.2, random_state=42)\n",
    "\n",
    "# Note : test_size spécifie la proportion des données à inclure dans l'ensemble de test. random_state assure la reproductibilité.\n"
   ]
  },
  {
   "cell_type": "markdown",
   "id": "9ce00ab2-e514-49e6-8075-c7311e579fe1",
   "metadata": {},
   "source": [
    "#### Points à retenir :\n",
    "X : Représente les caractéristiques (variables explicatives) que votre modèle utilisera pour prédire y.\n",
    "y : Représente la variable cible que votre modèle tentera de prédire à partir de X.\n",
    "\n",
    "test_size : Détermine la proportion de données à inclure dans l'ensemble de test. Par exemple, test_size=0.2 signifie que 20% des données seront utilisées pour le test, et 80% pour l'entraînement.\n",
    "\n",
    "random_state : Assure la reproductibilité de la division en fixant une graine aléatoire. Cela garantit que la division sera toujours la même si vous exécutez le code à plusieurs reprises."
   ]
  },
  {
   "cell_type": "markdown",
   "id": "9556a4e2-4f4c-45d4-8e8d-617d51e8ad94",
   "metadata": {},
   "source": [
    "### Importer les bibliothèques nécessaires"
   ]
  },
  {
   "cell_type": "code",
   "execution_count": 16,
   "id": "b1a8915e-be03-4f2a-a269-5b4d71886697",
   "metadata": {},
   "outputs": [],
   "source": [
    "from sklearn.preprocessing import StandardScaler\n",
    "from sklearn.linear_model import LogisticRegression\n",
    "from sklearn.metrics import classification_report\n",
    "import matplotlib.pyplot as plt"
   ]
  },
  {
   "cell_type": "markdown",
   "id": "d46ca844-8322-44aa-8766-0d264fc8b5e4",
   "metadata": {},
   "source": [
    "## Étape 5 : Normaliser les données"
   ]
  },
  {
   "cell_type": "markdown",
   "id": "a1fcdd06-5a64-4269-bc1f-5392184a7d45",
   "metadata": {},
   "source": [
    "La normalisation des données est une étape essentielle dans le prétraitement des données pour plusieurs raisons, en particulier lorsqu'il s'agit de modèles de machine learning comme la régression logistique. Voici les principales raisons pour lesquelles nous normalisons les données :\n",
    "\n",
    "1. Échelles différentes des caractéristiques\n",
    "Les caractéristiques peuvent avoir des échelles très différentes. Par exemple, l'âge peut varier de 18 à 70 ans, tandis que les salaires peuvent aller de quelques milliers à des centaines de milliers d'unités. Les algorithmes de machine learning, en particulier ceux qui reposent sur des calculs de distance comme la régression logistique, peuvent être influencés de manière disproportionnée par des caractéristiques à grande échelle.\n",
    "\n",
    "2. Convergence plus rapide des algorithmes d'optimisation\n",
    "Les algorithmes de machine learning utilisent souvent des méthodes d'optimisation pour ajuster les paramètres du modèle. La normalisation permet d'accélérer la convergence de ces algorithmes en s'assurant que toutes les caractéristiques contribuent de manière similaire à la mise à jour des poids du modèle.\n",
    "\n",
    "3. Meilleure performance du modèle\n",
    "Les modèles de machine learning, en particulier les modèles linéaires comme la régression logistique, ont tendance à mieux fonctionner lorsque les caractéristiques sont normalisées. Cela permet d'obtenir des résultats plus précis et plus fiables.\n",
    "\n",
    "4. Robustesse des calculs\n",
    "La normalisation réduit les risques de problèmes numériques tels que les dépassements de capacité (overflow) ou les pertes de précision (underflow) qui peuvent se produire lorsque des caractéristiques à grande échelle sont utilisées dans les calculs."
   ]
  },
  {
   "cell_type": "code",
   "execution_count": 17,
   "id": "39d8b9a0-9f02-4f26-a86c-673de4026d24",
   "metadata": {},
   "outputs": [],
   "source": [
    "# Normaliser les caractéristiques\n",
    "scaler = StandardScaler()\n",
    "X_train = scaler.fit_transform(X_train)\n",
    "X_test = scaler.transform(X_test)\n"
   ]
  },
  {
   "cell_type": "markdown",
   "id": "4a0b4aa8-973b-4bcd-8c87-77d07dae3943",
   "metadata": {},
   "source": [
    "## Étape 6 : Créer et entraîner le modèle de régression logistique"
   ]
  },
  {
   "cell_type": "code",
   "execution_count": 18,
   "id": "9c806b49-8823-4c7f-aaa5-728cef6fa813",
   "metadata": {},
   "outputs": [
    {
     "data": {
      "text/html": [
       "<style>#sk-container-id-1 {color: black;background-color: white;}#sk-container-id-1 pre{padding: 0;}#sk-container-id-1 div.sk-toggleable {background-color: white;}#sk-container-id-1 label.sk-toggleable__label {cursor: pointer;display: block;width: 100%;margin-bottom: 0;padding: 0.3em;box-sizing: border-box;text-align: center;}#sk-container-id-1 label.sk-toggleable__label-arrow:before {content: \"▸\";float: left;margin-right: 0.25em;color: #696969;}#sk-container-id-1 label.sk-toggleable__label-arrow:hover:before {color: black;}#sk-container-id-1 div.sk-estimator:hover label.sk-toggleable__label-arrow:before {color: black;}#sk-container-id-1 div.sk-toggleable__content {max-height: 0;max-width: 0;overflow: hidden;text-align: left;background-color: #f0f8ff;}#sk-container-id-1 div.sk-toggleable__content pre {margin: 0.2em;color: black;border-radius: 0.25em;background-color: #f0f8ff;}#sk-container-id-1 input.sk-toggleable__control:checked~div.sk-toggleable__content {max-height: 200px;max-width: 100%;overflow: auto;}#sk-container-id-1 input.sk-toggleable__control:checked~label.sk-toggleable__label-arrow:before {content: \"▾\";}#sk-container-id-1 div.sk-estimator input.sk-toggleable__control:checked~label.sk-toggleable__label {background-color: #d4ebff;}#sk-container-id-1 div.sk-label input.sk-toggleable__control:checked~label.sk-toggleable__label {background-color: #d4ebff;}#sk-container-id-1 input.sk-hidden--visually {border: 0;clip: rect(1px 1px 1px 1px);clip: rect(1px, 1px, 1px, 1px);height: 1px;margin: -1px;overflow: hidden;padding: 0;position: absolute;width: 1px;}#sk-container-id-1 div.sk-estimator {font-family: monospace;background-color: #f0f8ff;border: 1px dotted black;border-radius: 0.25em;box-sizing: border-box;margin-bottom: 0.5em;}#sk-container-id-1 div.sk-estimator:hover {background-color: #d4ebff;}#sk-container-id-1 div.sk-parallel-item::after {content: \"\";width: 100%;border-bottom: 1px solid gray;flex-grow: 1;}#sk-container-id-1 div.sk-label:hover label.sk-toggleable__label {background-color: #d4ebff;}#sk-container-id-1 div.sk-serial::before {content: \"\";position: absolute;border-left: 1px solid gray;box-sizing: border-box;top: 0;bottom: 0;left: 50%;z-index: 0;}#sk-container-id-1 div.sk-serial {display: flex;flex-direction: column;align-items: center;background-color: white;padding-right: 0.2em;padding-left: 0.2em;position: relative;}#sk-container-id-1 div.sk-item {position: relative;z-index: 1;}#sk-container-id-1 div.sk-parallel {display: flex;align-items: stretch;justify-content: center;background-color: white;position: relative;}#sk-container-id-1 div.sk-item::before, #sk-container-id-1 div.sk-parallel-item::before {content: \"\";position: absolute;border-left: 1px solid gray;box-sizing: border-box;top: 0;bottom: 0;left: 50%;z-index: -1;}#sk-container-id-1 div.sk-parallel-item {display: flex;flex-direction: column;z-index: 1;position: relative;background-color: white;}#sk-container-id-1 div.sk-parallel-item:first-child::after {align-self: flex-end;width: 50%;}#sk-container-id-1 div.sk-parallel-item:last-child::after {align-self: flex-start;width: 50%;}#sk-container-id-1 div.sk-parallel-item:only-child::after {width: 0;}#sk-container-id-1 div.sk-dashed-wrapped {border: 1px dashed gray;margin: 0 0.4em 0.5em 0.4em;box-sizing: border-box;padding-bottom: 0.4em;background-color: white;}#sk-container-id-1 div.sk-label label {font-family: monospace;font-weight: bold;display: inline-block;line-height: 1.2em;}#sk-container-id-1 div.sk-label-container {text-align: center;}#sk-container-id-1 div.sk-container {/* jupyter's `normalize.less` sets `[hidden] { display: none; }` but bootstrap.min.css set `[hidden] { display: none !important; }` so we also need the `!important` here to be able to override the default hidden behavior on the sphinx rendered scikit-learn.org. See: https://github.com/scikit-learn/scikit-learn/issues/21755 */display: inline-block !important;position: relative;}#sk-container-id-1 div.sk-text-repr-fallback {display: none;}</style><div id=\"sk-container-id-1\" class=\"sk-top-container\"><div class=\"sk-text-repr-fallback\"><pre>LogisticRegression(random_state=42)</pre><b>In a Jupyter environment, please rerun this cell to show the HTML representation or trust the notebook. <br />On GitHub, the HTML representation is unable to render, please try loading this page with nbviewer.org.</b></div><div class=\"sk-container\" hidden><div class=\"sk-item\"><div class=\"sk-estimator sk-toggleable\"><input class=\"sk-toggleable__control sk-hidden--visually\" id=\"sk-estimator-id-1\" type=\"checkbox\" checked><label for=\"sk-estimator-id-1\" class=\"sk-toggleable__label sk-toggleable__label-arrow\">LogisticRegression</label><div class=\"sk-toggleable__content\"><pre>LogisticRegression(random_state=42)</pre></div></div></div></div></div>"
      ],
      "text/plain": [
       "LogisticRegression(random_state=42)"
      ]
     },
     "execution_count": 18,
     "metadata": {},
     "output_type": "execute_result"
    }
   ],
   "source": [
    "# Créer le modèle de régression logistique\n",
    "model = LogisticRegression(random_state=42)\n",
    "\n",
    "# Entraîner le modèle sur les données d'entraînement\n",
    "model.fit(X_train, y_train)\n"
   ]
  },
  {
   "cell_type": "markdown",
   "id": "221162ed-2a3b-4c69-826a-b6776ee6ce6a",
   "metadata": {},
   "source": [
    "## Étape 7 : Faire des prédictions et évaluer le modèle"
   ]
  },
  {
   "cell_type": "code",
   "execution_count": 19,
   "id": "15f91731-fe43-4a63-8fe2-5753da33543d",
   "metadata": {},
   "outputs": [
    {
     "name": "stdout",
     "output_type": "stream",
     "text": [
      "Rapport de classification :\n",
      "               precision    recall  f1-score   support\n",
      "\n",
      "           0       0.85      0.96      0.90        52\n",
      "           1       0.90      0.68      0.78        28\n",
      "\n",
      "    accuracy                           0.86        80\n",
      "   macro avg       0.88      0.82      0.84        80\n",
      "weighted avg       0.87      0.86      0.86        80\n",
      "\n"
     ]
    }
   ],
   "source": [
    "# Faire des prédictions sur l'ensemble de test\n",
    "y_pred = model.predict(X_test)\n",
    "\n",
    "# Afficher le rapport de classification\n",
    "print(\"Rapport de classification :\\n\", classification_report(y_test, y_pred))\n"
   ]
  },
  {
   "cell_type": "markdown",
   "id": "9713ca8d-0021-47c2-a47a-0a661a8857e1",
   "metadata": {},
   "source": [
    "## Étape 8 : Visualiser quelques prédictions (optionnel)\n"
   ]
  },
  {
   "cell_type": "code",
   "execution_count": 20,
   "id": "1ce62319-b752-4baa-99df-f71dfd002c19",
   "metadata": {},
   "outputs": [
    {
     "name": "stdout",
     "output_type": "stream",
     "text": [
      "     Réel  Prédiction\n",
      "209     0           0\n",
      "280     1           1\n",
      "33      0           0\n",
      "210     1           1\n",
      "93      0           0\n",
      "84      0           0\n",
      "329     1           1\n",
      "94      0           0\n",
      "266     0           0\n",
      "126     0           0\n"
     ]
    }
   ],
   "source": [
    "# Afficher quelques prédictions avec les étiquettes réelles\n",
    "results = pd.DataFrame({'Réel': y_test, 'Prédiction': y_pred})\n",
    "print(results.head(10))\n"
   ]
  },
  {
   "cell_type": "code",
   "execution_count": null,
   "id": "7e4359f5-a2eb-4080-865a-55b8c244c59b",
   "metadata": {},
   "outputs": [],
   "source": []
  },
  {
   "cell_type": "code",
   "execution_count": null,
   "id": "36f81102-09f4-47c2-91bf-959ec1024b42",
   "metadata": {},
   "outputs": [],
   "source": []
  },
  {
   "cell_type": "code",
   "execution_count": null,
   "id": "05bc9369-c912-4383-8c40-0e6617a91348",
   "metadata": {},
   "outputs": [],
   "source": []
  },
  {
   "cell_type": "code",
   "execution_count": null,
   "id": "b95d8a9a-c8fc-49bd-bbca-f07d4228fb23",
   "metadata": {},
   "outputs": [],
   "source": []
  },
  {
   "cell_type": "code",
   "execution_count": null,
   "id": "5a6fb3c6-03b2-478b-9de4-a56371d4842d",
   "metadata": {},
   "outputs": [],
   "source": []
  },
  {
   "cell_type": "code",
   "execution_count": null,
   "id": "3bd22720-1901-4fa1-8736-12283b4bdee4",
   "metadata": {},
   "outputs": [],
   "source": []
  },
  {
   "cell_type": "code",
   "execution_count": null,
   "id": "ff014508-8b54-460c-aa3f-0753709598fa",
   "metadata": {},
   "outputs": [],
   "source": []
  },
  {
   "cell_type": "code",
   "execution_count": null,
   "id": "a773343b-5f92-4050-9959-95652ffe7067",
   "metadata": {},
   "outputs": [],
   "source": []
  },
  {
   "cell_type": "code",
   "execution_count": null,
   "id": "f5592952-89a5-4d95-be6d-a18772101207",
   "metadata": {},
   "outputs": [],
   "source": []
  },
  {
   "cell_type": "code",
   "execution_count": null,
   "id": "d9ebab42-f177-43cd-b25f-58b8a8f23df3",
   "metadata": {},
   "outputs": [],
   "source": []
  },
  {
   "cell_type": "code",
   "execution_count": null,
   "id": "79a13446-6747-448a-a47e-1dcd0523fac0",
   "metadata": {},
   "outputs": [],
   "source": []
  },
  {
   "cell_type": "code",
   "execution_count": null,
   "id": "57535efd-5910-443e-97d0-db1c32e96213",
   "metadata": {},
   "outputs": [],
   "source": []
  },
  {
   "cell_type": "code",
   "execution_count": null,
   "id": "a6cff54a-10b0-4edf-9b84-d7ae3ee3836a",
   "metadata": {},
   "outputs": [],
   "source": []
  },
  {
   "cell_type": "code",
   "execution_count": null,
   "id": "e1b02383-9867-4bc8-ba92-127971321378",
   "metadata": {},
   "outputs": [],
   "source": []
  },
  {
   "cell_type": "code",
   "execution_count": null,
   "id": "e4834150-3ff5-4f21-a5f8-41ad381b3633",
   "metadata": {},
   "outputs": [],
   "source": []
  },
  {
   "cell_type": "code",
   "execution_count": null,
   "id": "66c616cc-ff34-4eb7-88da-ea296218cde8",
   "metadata": {},
   "outputs": [],
   "source": []
  },
  {
   "cell_type": "markdown",
   "id": "4def7318-121d-4ae7-bd7b-9fa5815004a9",
   "metadata": {},
   "source": [
    "## Étape 9 : Calculer et afficher l'accuracy du modèle"
   ]
  },
  {
   "cell_type": "code",
   "execution_count": 25,
   "id": "0ac872d7-fc4e-46da-8ebd-f2cb07e2b9f9",
   "metadata": {},
   "outputs": [],
   "source": [
    "from sklearn.metrics import accuracy_score"
   ]
  },
  {
   "cell_type": "code",
   "execution_count": 28,
   "id": "ed2e8f2b-5d13-45ef-b0a3-c28d392fafc3",
   "metadata": {},
   "outputs": [
    {
     "data": {
      "text/plain": [
       "0.8625"
      ]
     },
     "execution_count": 28,
     "metadata": {},
     "output_type": "execute_result"
    }
   ],
   "source": [
    "# Calculer l'accuracy du modèle\n",
    "accuracy = accuracy_score(y_test, y_pred)\n",
    "accuracy"
   ]
  },
  {
   "cell_type": "code",
   "execution_count": null,
   "id": "832a58fe-bfef-4574-9e3e-6550f9b871db",
   "metadata": {},
   "outputs": [],
   "source": []
  }
 ],
 "metadata": {
  "kernelspec": {
   "display_name": "Python 3 (ipykernel)",
   "language": "python",
   "name": "python3"
  },
  "language_info": {
   "codemirror_mode": {
    "name": "ipython",
    "version": 3
   },
   "file_extension": ".py",
   "mimetype": "text/x-python",
   "name": "python",
   "nbconvert_exporter": "python",
   "pygments_lexer": "ipython3",
   "version": "3.11.7"
  }
 },
 "nbformat": 4,
 "nbformat_minor": 5
}
